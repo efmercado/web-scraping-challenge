{
 "cells": [
  {
   "cell_type": "code",
   "execution_count": 1,
   "metadata": {},
   "outputs": [],
   "source": [
    "# Dependencies\n",
    "from splinter import Browser\n",
    "from bs4 import BeautifulSoup\n",
    "import pandas as pd\n",
    "import requests\n",
    "import pymongo\n",
    "from flask import Flask, render_template, redirect\n",
    "from flask_pymongo import PyMongo\n",
    "import time"
   ]
  },
  {
   "cell_type": "code",
   "execution_count": 2,
   "metadata": {},
   "outputs": [],
   "source": [
    "executable_path = {'executable_path':\"/usr/local/bin/chromedriver\"}\n",
    "browser = Browser('chrome', **executable_path, headless=False)"
   ]
  },
  {
   "cell_type": "markdown",
   "metadata": {},
   "source": [
    "# NASA Mars News"
   ]
  },
  {
   "cell_type": "code",
   "execution_count": 24,
   "metadata": {},
   "outputs": [
    {
     "data": {
      "text/plain": [
       "\"Mars Helicopter Attached to NASA's Perseverance Rover\""
      ]
     },
     "execution_count": 24,
     "metadata": {},
     "output_type": "execute_result"
    }
   ],
   "source": [
    "[e.text.strip() for e in news_soup.findAll(True,'div', class_='content_title')][0]"
   ]
  },
  {
   "cell_type": "code",
   "execution_count": 12,
   "metadata": {},
   "outputs": [],
   "source": [
    "# Mars news URL of page to be scrapped\n",
    "news_url = 'https://mars.nasa.gov/news/'\n",
    "\n",
    "# Requesting data files from the news page\n",
    "page = requests.get(news_url)\n",
    "\n",
    "# Using BeautifulSoup to parse the html data/files\n",
    "news_soup = BeautifulSoup(page.content, 'html.parser')"
   ]
  },
  {
   "cell_type": "code",
   "execution_count": 13,
   "metadata": {},
   "outputs": [
    {
     "name": "stdout",
     "output_type": "stream",
     "text": [
      "Mars Helicopter Attached to NASA's Perseverance Rover\n",
      "------------------------------------------------------------------------------------------\n",
      "The team also fueled the rover's sky crane to get ready for this summer's history-making launch.\n"
     ]
    }
   ],
   "source": [
    "# Retrieving the latest news title and paragraph\n",
    "news_title = news_soup.find_all('div', class_='content_title')[0].get_text()\n",
    "news_p = news_soup.find_all('div', class_='rollover_description_inner')[0].get_text()\n",
    "\n",
    "print(news_title.replace('\\n',''))\n",
    "print('-'*90)\n",
    "print(news_p.replace('\\n',''))"
   ]
  },
  {
   "cell_type": "markdown",
   "metadata": {},
   "source": [
    "# JPL Mars Space Images - Featured Image"
   ]
  },
  {
   "cell_type": "code",
   "execution_count": null,
   "metadata": {},
   "outputs": [],
   "source": [
    "# Jet propulsion laboratory (JPL) URL\n",
    "jpl_nasa_url = 'https://www.jpl.nasa.gov'\n",
    "\n",
    "# Mars' featured image to be scraped\n",
    "jpl_images_url ='https://www.jpl.nasa.gov/spaceimages/?search=&category=Mars'\n",
    "\n",
    "# Using spliter to navigate and download the site\n",
    "browser.visit(jpl_images_url)\n",
    "\n",
    "html = browser.html\n",
    "\n",
    "# Using BeautifulSoup to parse the html page\n",
    "jpl_images_soup = BeautifulSoup(html, 'html.parser')"
   ]
  },
  {
   "cell_type": "code",
   "execution_count": null,
   "metadata": {},
   "outputs": [],
   "source": [
    "# Retrieving featured Mars image link\n",
    "image_path = jpl_images_soup.find_all('img')[3]['src']\n",
    "featured_image_url = jpl_nasa_url + image_path\n",
    "print(featured_image_url)"
   ]
  },
  {
   "cell_type": "markdown",
   "metadata": {},
   "source": [
    "# Mars Weather"
   ]
  },
  {
   "cell_type": "code",
   "execution_count": 25,
   "metadata": {},
   "outputs": [],
   "source": [
    "# Mars weather twitter page to be scrapped\n",
    "mars_twitter_url = 'https://twitter.com/marswxreport?lang=en'\n",
    "\n",
    "# Requesting data files from the twitter page\n",
    "page = requests.get(mars_twitter_url)\n",
    "\n",
    "# Using BeautifulSoup to parse the html data/files\n",
    "mars_weather_soup = BeautifulSoup(page.content,'html.parser')"
   ]
  },
  {
   "cell_type": "code",
   "execution_count": 26,
   "metadata": {},
   "outputs": [
    {
     "name": "stdout",
     "output_type": "stream",
     "text": [
      "InSight sol 491 (2020-04-14) low -93.2ºC (-135.7ºF) high -3.6ºC (25.5ºF)\n",
      "winds from the SW at 5.3 m/s (11.9 mph) gusting to 16.9 m/s (37.8 mph)\n",
      "pressure at 6.60 hPapic.twitter.com/txRSSV9avm\n"
     ]
    }
   ],
   "source": [
    "# Retrieving the latest Mars weather update tweet\n",
    "weather_span = mars_weather_soup.find_all('p', class_='TweetTextSize')[0].get_text()\n",
    "\n",
    "# Assigning tweet to mars_weather variable\n",
    "mars_weather = weather_span\n",
    "print(mars_weather)"
   ]
  },
  {
   "cell_type": "markdown",
   "metadata": {},
   "source": [
    "# Mars Facts"
   ]
  },
  {
   "cell_type": "code",
   "execution_count": null,
   "metadata": {},
   "outputs": [],
   "source": [
    "# Mars facts to be scraped\n",
    "mars_facts_url = 'https://space-facts.com/mars/'\n",
    "\n",
    "# Using Pandas to scrape the table containing Mars' facts\n",
    "mars_html = pd.read_html(mars_facts_url)[0]\n",
    "\n",
    "# Renaming columns\n",
    "mars_html = mars_html.rename(columns = {0:'Parameter', 1:'Value'}).set_index('Parameter')\n",
    "print(mars_html)"
   ]
  },
  {
   "cell_type": "code",
   "execution_count": null,
   "metadata": {},
   "outputs": [],
   "source": [
    "# Converting the data to an HTML table string\n",
    "mars_table_html =  mars_html.to_html()\n",
    "print(mars_table_html)"
   ]
  },
  {
   "cell_type": "markdown",
   "metadata": {},
   "source": [
    "# Mars Hemispheres"
   ]
  },
  {
   "cell_type": "code",
   "execution_count": null,
   "metadata": {},
   "outputs": [],
   "source": [
    "# USGS Astrology site\n",
    "usgs_url = 'https://astrogeology.usgs.gov'\n",
    "\n",
    "# Mars hemispheres page to be scraped\n",
    "hemispheres_url = 'https://astrogeology.usgs.gov/search/results?q=hemisphere+enhanced&k1=target&v1=Mars'\n",
    "\n",
    "# Using spliter to navigate and download the site\n",
    "browser.visit(hemispheres_url)\n",
    "\n",
    "hemisphere_html = browser.html\n",
    "\n",
    "# Using BeautifulSoup to parse the html page\n",
    "hemispheres_soup = BeautifulSoup(hemisphere_html, 'html.parser')"
   ]
  },
  {
   "cell_type": "code",
   "execution_count": null,
   "metadata": {},
   "outputs": [],
   "source": [
    "# Navigating to the HTML element that contains the descriptive page data\n",
    "hemispheres_page_description = hemispheres_soup.find_all('div', class_='description')\n",
    "\n",
    "# Blank list that will be populated with the image URLs\n",
    "hemisphere_image_urls = []\n",
    "\n",
    "# For loop that will navigate the HTML element and retrieve the necessary data\n",
    "for link in hemispheres_page_description:\n",
    "    \n",
    "    # Hemisphere title\n",
    "    hemisphere_title = link.h3.text\n",
    "    \n",
    "    # Using splinter to navigate new page\n",
    "    browser.visit(usgs_url + link.a['href'])\n",
    "    \n",
    "    # Downloading/requesting/parsing HTML files\n",
    "    image_html = browser.html\n",
    "    image_soup = BeautifulSoup(image_html, 'html.parser')\n",
    "    \n",
    "    # Pulling the image URL\n",
    "    image_link = image_soup.find('div', class_='downloads').li.a['href']\n",
    "    \n",
    "    # Saving the image title and URL into a dictionary\n",
    "    image_dictionary = {}\n",
    "    image_dictionary['title'] = hemisphere_title\n",
    "    image_dictionary['img_url'] = image_link\n",
    "    \n",
    "    # Appending to list\n",
    "    hemisphere_image_urls.append(image_dictionary)\n",
    "\n",
    "print(hemisphere_image_urls)"
   ]
  },
  {
   "cell_type": "code",
   "execution_count": null,
   "metadata": {},
   "outputs": [],
   "source": [
    "# Dictionary of all the data collected\n",
    "mars_dict = {\n",
    "        \"news_title\": news_title,\n",
    "        \"news_p\": news_p,\n",
    "        \"featured_image_url\": featured_image_url,\n",
    "        \"mars_weather\": mars_weather,\n",
    "        \"fact_table\": str(mars_table_html),\n",
    "        \"hemisphere_images\": hemisphere_image_urls\n",
    "        }"
   ]
  },
  {
   "cell_type": "code",
   "execution_count": null,
   "metadata": {},
   "outputs": [],
   "source": [
    "print(mars_dict)"
   ]
  },
  {
   "cell_type": "code",
   "execution_count": null,
   "metadata": {},
   "outputs": [],
   "source": []
  }
 ],
 "metadata": {
  "kernelspec": {
   "display_name": "Python 3",
   "language": "python",
   "name": "python3"
  },
  "language_info": {
   "codemirror_mode": {
    "name": "ipython",
    "version": 3
   },
   "file_extension": ".py",
   "mimetype": "text/x-python",
   "name": "python",
   "nbconvert_exporter": "python",
   "pygments_lexer": "ipython3",
   "version": "3.7.4"
  }
 },
 "nbformat": 4,
 "nbformat_minor": 2
}
